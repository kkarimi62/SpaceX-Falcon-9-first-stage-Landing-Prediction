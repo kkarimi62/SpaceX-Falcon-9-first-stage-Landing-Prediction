{
  "cells": [
    {
      "cell_type": "markdown",
      "metadata": {
        "id": "view-in-github",
        "colab_type": "text"
      },
      "source": [
        "<a href=\"https://colab.research.google.com/github/kkarimi62/SpaceX-Falcon-9-first-stage-Landing-Prediction/blob/main/jupyter_labs_eda_sql_coursera_sqllite.ipynb\" target=\"_parent\"><img src=\"https://colab.research.google.com/assets/colab-badge.svg\" alt=\"Open In Colab\"/></a>"
      ]
    },
    {
      "cell_type": "markdown",
      "metadata": {
        "id": "a6db7f9d-eccd-42cc-8e72-a972b93804eb"
      },
      "source": [
        "<p style=\"text-align:center\">\n",
        "    <a href=\"https://skills.network\" target=\"_blank\">\n",
        "    <img src=\"https://cf-courses-data.s3.us.cloud-object-storage.appdomain.cloud/assets/logos/SN_web_lightmode.png\" width=\"200\" alt=\"Skills Network Logo\">\n",
        "    </a>\n",
        "</p>\n",
        "\n",
        "<h1 align=center><font size = 5>Assignment: SQL Notebook for Peer Assignment</font></h1>\n",
        "\n",
        "Estimated time needed: **60** minutes.\n",
        "\n",
        "## Introduction\n",
        "Using this Python notebook you will:\n",
        "\n",
        "1.  Understand the Spacex DataSet\n",
        "2.  Load the dataset  into the corresponding table in a Db2 database\n",
        "3.  Execute SQL queries to answer assignment questions\n"
      ]
    },
    {
      "cell_type": "markdown",
      "metadata": {
        "id": "21aa4653-ba36-4b60-bf1c-a94affc4f5ec"
      },
      "source": [
        "## Overview of the DataSet\n",
        "\n",
        "SpaceX has gained worldwide attention for a series of historic milestones.\n",
        "\n",
        "It is the only private company ever to return a spacecraft from low-earth orbit, which it first accomplished in December 2010.\n",
        "SpaceX advertises Falcon 9 rocket launches on its website with a cost of 62 million dollars wheras other providers cost upward of 165 million dollars each, much of the savings is because Space X can reuse the first stage.\n",
        "\n",
        "\n",
        "Therefore if we can determine if the first stage will land, we can determine the cost of a launch.\n",
        "\n",
        "This information can be used if an alternate company wants to bid against SpaceX for a rocket launch.\n",
        "\n",
        "This dataset includes a record for each payload carried during a SpaceX mission into outer space.\n"
      ]
    },
    {
      "cell_type": "markdown",
      "metadata": {
        "id": "f284e791-4a2c-4693-9443-1673a930bc58"
      },
      "source": [
        "### Download the datasets\n",
        "\n",
        "This assignment requires you to load the spacex dataset.\n",
        "\n",
        "In many cases the dataset to be analyzed is available as a .CSV (comma separated values) file, perhaps on the internet. Click on the link below to download and save the dataset (.CSV file):\n",
        "\n",
        " <a href=\"https://cf-courses-data.s3.us.cloud-object-storage.appdomain.cloud/IBM-DS0321EN-SkillsNetwork/labs/module_2/data/Spacex.csv\" target=\"_blank\">Spacex DataSet</a>\n",
        "\n"
      ]
    },
    {
      "cell_type": "code",
      "metadata": {
        "id": "cc379498-30ef-44a6-a3e6-132d1a1cf4d9"
      },
      "outputs": [],
      "source": [
        "!pip install sqlalchemy==1.3.9\n"
      ],
      "execution_count": null
    },
    {
      "cell_type": "markdown",
      "metadata": {
        "id": "bee0e21a-df3b-40c9-813e-d04e7dda35af"
      },
      "source": [
        "### Connect to the database\n",
        "\n",
        "Let us first load the SQL extension and establish a connection with the database\n"
      ]
    },
    {
      "cell_type": "code",
      "metadata": {
        "id": "3686e957-c78d-4216-95a1-796f945d5b0f"
      },
      "outputs": [],
      "source": [
        "#Please uncomment and execute the code below if you are working locally.\n",
        "\n",
        "#!pip install ipython-sql"
      ],
      "execution_count": null
    },
    {
      "cell_type": "code",
      "metadata": {
        "id": "c42877fe-9204-4a2b-a68b-2e2bbae2bfab"
      },
      "outputs": [],
      "source": [
        "%load_ext sql"
      ],
      "execution_count": null
    },
    {
      "cell_type": "code",
      "metadata": {
        "id": "1728fe99-bc73-42f4-a763-6d9f0d038bbb"
      },
      "outputs": [],
      "source": [
        "import csv, sqlite3\n",
        "\n",
        "con = sqlite3.connect(\"my_data1.db\")\n",
        "cur = con.cursor()"
      ],
      "execution_count": null
    },
    {
      "cell_type": "code",
      "metadata": {
        "id": "ad07a3da-9da6-4ef1-8cb0-e70c9ecddab7"
      },
      "outputs": [],
      "source": [
        "!pip install -q pandas==1.1.5"
      ],
      "execution_count": null
    },
    {
      "cell_type": "code",
      "metadata": {
        "id": "a746f178-8649-4b08-98a9-a605ccee3bb3"
      },
      "outputs": [],
      "source": [
        "%sql sqlite:///my_data1.db"
      ],
      "execution_count": null
    },
    {
      "cell_type": "code",
      "metadata": {
        "colab": {
          "base_uri": "https://localhost:8080/"
        },
        "id": "c6a274b9-51dc-494b-8954-c6d55479a2db",
        "outputId": "5ee043d8-3fb7-4f85-f454-a73206a8381f"
      },
      "outputs": [
        {
          "output_type": "execute_result",
          "data": {
            "text/plain": [
              "101"
            ]
          },
          "metadata": {},
          "execution_count": 18
        }
      ],
      "source": [
        "import pandas as pd\n",
        "df = pd.read_csv(\"https://cf-courses-data.s3.us.cloud-object-storage.appdomain.cloud/IBM-DS0321EN-SkillsNetwork/labs/module_2/data/Spacex.csv\")\n",
        "df.to_sql(\"SPACEXTBL\", con, if_exists='replace', index=False,method=\"multi\")"
      ],
      "execution_count": null
    },
    {
      "cell_type": "markdown",
      "metadata": {
        "id": "83bdb47f-f97a-4165-915e-9d7b60b3f44f"
      },
      "source": [
        "**Note:This below code is added to remove blank rows from table**\n"
      ]
    },
    {
      "cell_type": "code",
      "metadata": {
        "colab": {
          "base_uri": "https://localhost:8080/"
        },
        "id": "542091fc-021c-41a2-96a2-6222f9429f30",
        "outputId": "8b2cf2ae-15a4-495e-abba-4719e93ad6b2"
      },
      "outputs": [
        {
          "output_type": "stream",
          "name": "stdout",
          "text": [
            " * sqlite:///my_data1.db\n",
            "(sqlite3.OperationalError) table SPACEXTABLE already exists\n",
            "[SQL: create table SPACEXTABLE as select * from SPACEXTBL where Date is not null]\n",
            "(Background on this error at: https://sqlalche.me/e/20/e3q8)\n"
          ]
        }
      ],
      "source": [
        "%sql create table SPACEXTABLE as select * from SPACEXTBL where Date is not null"
      ],
      "execution_count": null
    },
    {
      "cell_type": "markdown",
      "metadata": {
        "id": "05cbeacb-d9a6-49fa-8411-eb240e5a8757"
      },
      "source": [
        "## Tasks\n",
        "\n",
        "Now write and execute SQL queries to solve the assignment tasks.\n",
        "\n",
        "**Note: If the column names are in mixed case enclose it in double quotes\n",
        "   For Example \"Landing_Outcome\"**\n",
        "\n",
        "### Task 1\n",
        "\n",
        "\n",
        "\n",
        "\n",
        "##### Display the names of the unique launch sites  in the space mission\n"
      ]
    },
    {
      "cell_type": "code",
      "source": [
        "query=\"\"\"PRAGMA table_info(SPACEXTABLE) \"\"\"\n",
        "\n",
        "\n",
        "output = make_query(query)\n",
        "output\n"
      ],
      "metadata": {
        "colab": {
          "base_uri": "https://localhost:8080/"
        },
        "id": "E5HkkvwgtVRm",
        "outputId": "09c6024b-f9e1-4378-87ea-6d3cd3462a64"
      },
      "execution_count": null,
      "outputs": [
        {
          "output_type": "execute_result",
          "data": {
            "text/plain": [
              "[(0, 'Date', 'TEXT', 0, None, 0),\n",
              " (1, 'Time (UTC)', 'TEXT', 0, None, 0),\n",
              " (2, 'Booster_Version', 'TEXT', 0, None, 0),\n",
              " (3, 'Launch_Site', 'TEXT', 0, None, 0),\n",
              " (4, 'Payload', 'TEXT', 0, None, 0),\n",
              " (5, 'PAYLOAD_MASS__KG_', 'INT', 0, None, 0),\n",
              " (6, 'Orbit', 'TEXT', 0, None, 0),\n",
              " (7, 'Customer', 'TEXT', 0, None, 0),\n",
              " (8, 'Mission_Outcome', 'TEXT', 0, None, 0),\n",
              " (9, 'Landing_Outcome', 'TEXT', 0, None, 0)]"
            ]
          },
          "metadata": {},
          "execution_count": 43
        }
      ]
    },
    {
      "cell_type": "code",
      "metadata": {
        "colab": {
          "base_uri": "https://localhost:8080/"
        },
        "id": "35c79e8e-8f45-47b2-8bae-17a803fa6e84",
        "outputId": "03638f06-70ed-484a-b2a1-98d3f9d610f9"
      },
      "outputs": [
        {
          "output_type": "execute_result",
          "data": {
            "text/plain": [
              "[('CCAFS LC-40',), ('VAFB SLC-4E',), ('KSC LC-39A',), ('CCAFS SLC-40',)]"
            ]
          },
          "metadata": {},
          "execution_count": 33
        }
      ],
      "source": [
        "def make_query(query):\n",
        "  con = sqlite3.connect(\"my_data1.db\")\n",
        "  cur = con.cursor()\n",
        "  cur.execute(query)\n",
        "  rows=cur.fetchall()\n",
        "  con.close()\n",
        "  return rows\n",
        "\n",
        "#query=\"\"\"PRAGMA table_info(SPACEXTABLE) \"\"\"\n",
        "query=\"\"\"select DISTINCT Launch_Site from SPACEXTABLE \"\"\"\n",
        "\n",
        "\n",
        "output = make_query(query)\n",
        "output\n"
      ],
      "execution_count": null
    },
    {
      "cell_type": "markdown",
      "metadata": {
        "id": "315e06fc-2a9a-48c8-8755-14b8e4ff1967"
      },
      "source": [
        "\n",
        "### Task 2\n",
        "\n",
        "\n",
        "#####  Display 5 records where launch sites begin with the string 'CCA'\n"
      ]
    },
    {
      "cell_type": "code",
      "metadata": {
        "colab": {
          "base_uri": "https://localhost:8080/"
        },
        "id": "49fdec56-1496-4da2-aafd-150872756fe0",
        "outputId": "4237ae43-2725-4e19-9f8e-d82ad7abf68c"
      },
      "outputs": [
        {
          "output_type": "execute_result",
          "data": {
            "text/plain": [
              "[('CCAFS LC-40',),\n",
              " ('CCAFS LC-40',),\n",
              " ('CCAFS LC-40',),\n",
              " ('CCAFS LC-40',),\n",
              " ('CCAFS LC-40',)]"
            ]
          },
          "metadata": {},
          "execution_count": 44
        }
      ],
      "source": [
        "query=\"\"\"select Launch_Site from SPACEXTABLE where Launch_Site like 'CCA%' LIMIT 5 \"\"\"\n",
        "\n",
        "\n",
        "output = make_query(query)\n",
        "output\n"
      ],
      "execution_count": null
    },
    {
      "cell_type": "markdown",
      "metadata": {
        "id": "6fa35ae7-0fc6-475c-8f9a-983feedfc3d8"
      },
      "source": [
        "### Task 3\n",
        "\n",
        "\n",
        "\n",
        "\n",
        "##### Display the total payload mass carried by boosters launched by NASA (CRS)\n"
      ]
    },
    {
      "cell_type": "code",
      "source": [],
      "metadata": {
        "id": "a048NDhGtNXP"
      },
      "execution_count": null,
      "outputs": []
    },
    {
      "cell_type": "code",
      "metadata": {
        "colab": {
          "base_uri": "https://localhost:8080/"
        },
        "id": "089f0adf-50b3-4169-af41-d988e1d6817b",
        "outputId": "04a5b31f-bd48-4532-9fc7-dd0aad4f6e8d"
      },
      "outputs": [
        {
          "output_type": "execute_result",
          "data": {
            "text/plain": [
              "[('CCAFS LC-40',), ('VAFB SLC-4E',), ('KSC LC-39A',), ('CCAFS SLC-40',)]"
            ]
          },
          "metadata": {},
          "execution_count": 49
        }
      ],
      "source": [
        "#query=\"\"\"select PAYLOAD_MASS__KG_, Booster_Version from SPACEXTABLE WHERE Launch_Site like 'NASA%' \"\"\"\n",
        "query=\"\"\"select DISTINCT Launch_Site from SPACEXTABLE\"\"\"\n",
        "\n",
        "\n",
        "output = make_query(query)\n",
        "output\n",
        "#pd.DataFrame(output)\n"
      ],
      "execution_count": null
    },
    {
      "cell_type": "markdown",
      "metadata": {
        "id": "7c89112e-8f84-4cf0-bca2-0853fe5379eb"
      },
      "source": [
        "### Task 4\n",
        "\n",
        "\n",
        "\n",
        "\n",
        "##### Display average payload mass carried by booster version F9 v1.1\n"
      ]
    },
    {
      "cell_type": "code",
      "metadata": {
        "colab": {
          "base_uri": "https://localhost:8080/"
        },
        "id": "a17aa67f-1825-4c3c-b0b1-a2052c6fdb4d",
        "outputId": "ea94a4e9-493e-4071-8eba-7e5c3dcd92ff"
      },
      "outputs": [
        {
          "output_type": "execute_result",
          "data": {
            "text/plain": [
              "[('F9 v1.1  B1003', 2534.6666666666665)]"
            ]
          },
          "metadata": {},
          "execution_count": 54
        }
      ],
      "source": [
        "\n",
        "\n",
        "query=\"\"\"select Booster_Version, AVG(PAYLOAD_MASS__KG_) as average_mass from SPACEXTABLE where Booster_Version like '%F9 v1.1%' \"\"\"\n",
        "\n",
        "\n",
        "output = make_query(query)\n",
        "output\n"
      ],
      "execution_count": null
    },
    {
      "cell_type": "markdown",
      "metadata": {
        "id": "d1ae46c1-a801-4109-9d9e-5dbf9e1afdd5"
      },
      "source": [
        "### Task 5\n",
        "\n",
        "##### List the date when the first succesful landing outcome in ground pad was acheived.\n",
        "\n",
        "\n",
        "_Hint:Use min function_\n"
      ]
    },
    {
      "cell_type": "code",
      "metadata": {
        "colab": {
          "base_uri": "https://localhost:8080/"
        },
        "id": "6a28c3dd-18f1-40e5-9920-42e3715ef372",
        "outputId": "2a829ccf-56f7-4ab4-c6aa-bf4701d8510f"
      },
      "outputs": [
        {
          "output_type": "execute_result",
          "data": {
            "text/plain": [
              "[('2015-12-22', 'Success (ground pad)')]"
            ]
          },
          "metadata": {},
          "execution_count": 79
        }
      ],
      "source": [
        "query=\"\"\"select Date, Landing_Outcome from SPACEXTABLE where Landing_Outcome like '%Success%' AND Landing_Outcome like '%ground pad%' ORDER BY Date LIMIT 1 \"\"\"\n",
        "\n",
        "\n",
        "output = make_query(query)\n",
        "output\n"
      ],
      "execution_count": null
    },
    {
      "cell_type": "markdown",
      "metadata": {
        "id": "33174cef-51db-42e6-acb7-d590371c1348"
      },
      "source": [
        "### Task 6\n",
        "\n",
        "##### List the names of the boosters which have success in drone ship and have payload mass greater than 4000 but less than 6000\n"
      ]
    },
    {
      "cell_type": "code",
      "metadata": {
        "colab": {
          "base_uri": "https://localhost:8080/"
        },
        "id": "95f0fc6a-b3ca-4bd6-8a05-1e60b17307d7",
        "outputId": "5641dc74-5dfd-4a25-b91f-00dad7087183"
      },
      "outputs": [
        {
          "output_type": "execute_result",
          "data": {
            "text/plain": [
              "[('F9 FT B1022', 4696, 'Success (drone ship)'),\n",
              " ('F9 FT B1026', 4600, 'Success (drone ship)'),\n",
              " ('F9 FT  B1021.2', 5300, 'Success (drone ship)'),\n",
              " ('F9 FT  B1031.2', 5200, 'Success (drone ship)')]"
            ]
          },
          "metadata": {},
          "execution_count": 78
        }
      ],
      "source": [
        "query=\"\"\"select Booster_Version, PAYLOAD_MASS__KG_, Landing_Outcome from SPACEXTABLE where Landing_Outcome like '%Success%' AND Landing_Outcome like '%drone ship%' AND PAYLOAD_MASS__KG_ BETWEEN 4000 AND 6000 \"\"\"\n",
        "\n",
        "\n",
        "output = make_query(query)\n",
        "output\n"
      ],
      "execution_count": null
    },
    {
      "cell_type": "markdown",
      "metadata": {
        "id": "2c82937a-d5df-4746-b3ac-1a5ab177137f"
      },
      "source": [
        "### Task 7\n",
        "\n",
        "\n",
        "\n",
        "\n",
        "##### List the total number of successful and failure mission outcomes\n"
      ]
    },
    {
      "cell_type": "code",
      "metadata": {
        "colab": {
          "base_uri": "https://localhost:8080/"
        },
        "id": "6c45be1f-2dfb-4dc4-85dc-68da45059dc4",
        "outputId": "8d0013fe-c244-448b-ac2b-e458dc95fbea"
      },
      "outputs": [
        {
          "output_type": "stream",
          "name": "stdout",
          "text": [
            "successful outcomes: [(61,)]\n"
          ]
        },
        {
          "output_type": "execute_result",
          "data": {
            "text/plain": [
              "[(40,)]"
            ]
          },
          "metadata": {},
          "execution_count": 69
        }
      ],
      "source": [
        "query=\"\"\"select COUNT(Landing_Outcome) from SPACEXTABLE where Landing_Outcome like '%Success%'\"\"\"\n",
        "\n",
        "\n",
        "output = make_query(query)\n",
        "print('successful outcomes:',output)\n",
        "\n",
        "query=\"\"\"select COUNT(Landing_Outcome) from SPACEXTABLE where Landing_Outcome NOT like '%Success%'\"\"\"\n",
        "\n",
        "\n",
        "output = make_query(query)\n",
        "output\n"
      ],
      "execution_count": null
    },
    {
      "cell_type": "markdown",
      "metadata": {
        "id": "e0bfa782-af12-4d6f-b00f-07036c81ebc6"
      },
      "source": [
        "### Task 8\n",
        "\n",
        "\n",
        "\n",
        "##### List the   names of the booster_versions which have carried the maximum payload mass. Use a subquery\n"
      ]
    },
    {
      "cell_type": "code",
      "metadata": {
        "colab": {
          "base_uri": "https://localhost:8080/"
        },
        "id": "9a534495-bac1-431d-b43a-f5d552f8ec52",
        "outputId": "42b02c63-9275-46ab-a7df-72d34c125c48"
      },
      "outputs": [
        {
          "output_type": "execute_result",
          "data": {
            "text/plain": [
              "[('F9 B5 B1048.4', 15600),\n",
              " ('F9 B5 B1049.4', 15600),\n",
              " ('F9 B5 B1051.3', 15600),\n",
              " ('F9 B5 B1056.4', 15600),\n",
              " ('F9 B5 B1048.5', 15600),\n",
              " ('F9 B5 B1051.4', 15600),\n",
              " ('F9 B5 B1049.5', 15600),\n",
              " ('F9 B5 B1060.2 ', 15600),\n",
              " ('F9 B5 B1058.3 ', 15600),\n",
              " ('F9 B5 B1051.6', 15600),\n",
              " ('F9 B5 B1060.3', 15600),\n",
              " ('F9 B5 B1049.7 ', 15600)]"
            ]
          },
          "metadata": {},
          "execution_count": 74
        }
      ],
      "source": [
        "#query=\"\"\"select Booster_Version, PAYLOAD_MASS__KG_ from SPACEXTABLE\"\"\"\n",
        "query=\"\"\"select Booster_Version, PAYLOAD_MASS__KG_ from SPACEXTABLE where PAYLOAD_MASS__KG_ in (select MAX(PAYLOAD_MASS__KG_) from SPACEXTABLE)\"\"\"\n",
        "\n",
        "\n",
        "output = make_query(query)\n",
        "output\n"
      ],
      "execution_count": null
    },
    {
      "cell_type": "markdown",
      "metadata": {
        "id": "5ba257fa-d385-4807-a65c-605cdd4a524e"
      },
      "source": [
        "### Task 9\n",
        "\n",
        "\n",
        "##### List the records which will display the month names, failure landing_outcomes in drone ship ,booster versions, launch_site for the months in year 2015.\n",
        "\n",
        "**Note: SQLLite does not support monthnames. So you need to use  substr(Date, 6,2) as month to get the months and substr(Date,0,5)='2015' for year.**\n"
      ]
    },
    {
      "cell_type": "code",
      "metadata": {
        "colab": {
          "base_uri": "https://localhost:8080/"
        },
        "id": "8e0fa5c8-50ca-49e7-aea9-30d7353aa322",
        "outputId": "4a6b4b90-2806-4210-cc8e-2991bc85b5df"
      },
      "outputs": [
        {
          "output_type": "execute_result",
          "data": {
            "text/plain": [
              "[('01', 'Failure (drone ship)', 'F9 v1.1 B1012', 'CCAFS LC-40'),\n",
              " ('04', 'Failure (drone ship)', 'F9 v1.1 B1015', 'CCAFS LC-40'),\n",
              " ('01', 'Failure (drone ship)', 'F9 v1.1 B1017', 'VAFB SLC-4E'),\n",
              " ('03', 'Failure (drone ship)', 'F9 FT B1020', 'CCAFS LC-40'),\n",
              " ('06', 'Failure (drone ship)', 'F9 FT B1024', 'CCAFS LC-40')]"
            ]
          },
          "metadata": {},
          "execution_count": 86
        }
      ],
      "source": [
        "query=\"\"\"select  substr(Date, 6,2), Landing_Outcome, Booster_Version, Launch_Site  from SPACEXTABLE\n",
        "          where Landing_Outcome LIKE '%Failure%' AND Landing_Outcome LIKE '%drone ship%'\n",
        "          \"\"\"\n",
        "\n",
        "\n",
        "output = make_query(query)\n",
        "output\n"
      ],
      "execution_count": null
    },
    {
      "cell_type": "markdown",
      "metadata": {
        "id": "930422fd-8aeb-4f63-8679-024dc3026711"
      },
      "source": [
        "### Task 10\n",
        "\n",
        "\n",
        "\n",
        "\n",
        "##### Rank the count of landing outcomes (such as Failure (drone ship) or Success (ground pad)) between the date 2010-06-04 and 2017-03-20, in descending order.\n"
      ]
    },
    {
      "cell_type": "code",
      "metadata": {
        "colab": {
          "base_uri": "https://localhost:8080/"
        },
        "id": "3dac6fb2-9cde-40b5-b30f-4777e56d5a80",
        "outputId": "b8fc70b9-d195-474f-b4a4-ac0dbc6314a9"
      },
      "outputs": [
        {
          "output_type": "execute_result",
          "data": {
            "text/plain": [
              "[('2014-04-18', 3),\n",
              " ('2015-01-10', 5),\n",
              " ('2010-06-04', 2),\n",
              " ('2012-05-22', 10),\n",
              " ('2015-06-28', 1),\n",
              " ('2016-04-08', 5),\n",
              " ('2015-12-22', 3),\n",
              " ('2013-09-29', 2)]"
            ]
          },
          "metadata": {},
          "execution_count": 92
        }
      ],
      "source": [
        "query=\"\"\"select  Date, COUNT(Landing_Outcome) from SPACEXTABLE\n",
        "          where Date BETWEEN '2010-06-04' AND '2017-03-20'\n",
        "          GROUP BY Landing_Outcome\n",
        "          \"\"\"\n",
        "\n",
        "\n",
        "output = make_query(query)\n",
        "output\n"
      ],
      "execution_count": null
    },
    {
      "cell_type": "markdown",
      "metadata": {
        "id": "832351ea-ef0f-44dd-9ca9-b97419f860b2"
      },
      "source": [
        "### Reference Links\n",
        "\n",
        "* <a href =\"https://cf-courses-data.s3.us.cloud-object-storage.appdomain.cloud/IBMDeveloperSkillsNetwork-DB0201EN-SkillsNetwork/labs/Labs_Coursera_V5/labs/Lab%20-%20String%20Patterns%20-%20Sorting%20-%20Grouping/instructional-labs.md.html?origin=www.coursera.org\">Hands-on Lab : String Patterns, Sorting and Grouping</a>  \n",
        "\n",
        "*  <a  href=\"https://cf-courses-data.s3.us.cloud-object-storage.appdomain.cloud/IBMDeveloperSkillsNetwork-DB0201EN-SkillsNetwork/labs/Labs_Coursera_V5/labs/Lab%20-%20Built-in%20functions%20/Hands-on_Lab__Built-in_Functions.md.html?origin=www.coursera.org\">Hands-on Lab: Built-in functions</a>\n",
        "\n",
        "*  <a  href=\"https://cf-courses-data.s3.us.cloud-object-storage.appdomain.cloud/IBMDeveloperSkillsNetwork-DB0201EN-SkillsNetwork/labs/Labs_Coursera_V5/labs/Lab%20-%20Sub-queries%20and%20Nested%20SELECTs%20/instructional-labs.md.html?origin=www.coursera.org\">Hands-on Lab : Sub-queries and Nested SELECT Statements</a>\n",
        "\n",
        "*   <a href=\"https://cf-courses-data.s3.us.cloud-object-storage.appdomain.cloud/IBMDeveloperSkillsNetwork-DB0201EN-SkillsNetwork/labs/Module%205/DB0201EN-Week3-1-3-SQLmagic.ipynb\">Hands-on Tutorial: Accessing Databases with SQL magic</a>\n",
        "\n",
        "*  <a href= \"https://cf-courses-data.s3.us.cloud-object-storage.appdomain.cloud/IBMDeveloperSkillsNetwork-DB0201EN-SkillsNetwork/labs/Module%205/DB0201EN-Week3-1-4-Analyzing.ipynb\">Hands-on Lab: Analyzing a real World Data Set</a>\n",
        "\n",
        "\n"
      ]
    },
    {
      "cell_type": "markdown",
      "metadata": {
        "id": "21ce78f2-9c70-4227-aa5c-d0eb2185d6f1"
      },
      "source": [
        "## Author(s)\n",
        "\n",
        "<h4> Lakshmi Holla </h4>\n"
      ]
    },
    {
      "cell_type": "markdown",
      "metadata": {
        "id": "333e0967-f03e-4977-876d-c049fb802bd6"
      },
      "source": [
        "## Other Contributors\n",
        "\n",
        "<h4> Rav Ahuja </h4>\n"
      ]
    },
    {
      "cell_type": "markdown",
      "metadata": {
        "id": "65b5e2ea-3999-4450-bb25-c59b4f362939"
      },
      "source": [
        "## Change log\n",
        "| Date | Version | Changed by | Change Description |\n",
        "|------|--------|--------|---------|\n",
        "| 2021-07-09 | 0.2 |Lakshmi Holla | Changes made in magic sql|\n",
        "| 2021-05-20 | 0.1 |Lakshmi Holla | Created Initial Version |\n"
      ]
    },
    {
      "cell_type": "markdown",
      "metadata": {
        "id": "0f8b00e0-87ea-4e55-8ae7-758836ea9a86"
      },
      "source": [
        "## <h3 align=\"center\"> © IBM Corporation 2021. All rights reserved. <h3/>\n"
      ]
    }
  ],
  "metadata": {
    "kernelspec": {
      "display_name": "Python",
      "language": "python",
      "name": "conda-env-python-py"
    },
    "language_info": {
      "name": ""
    },
    "colab": {
      "provenance": [],
      "toc_visible": true,
      "include_colab_link": true
    }
  },
  "nbformat": 4,
  "nbformat_minor": 0
}